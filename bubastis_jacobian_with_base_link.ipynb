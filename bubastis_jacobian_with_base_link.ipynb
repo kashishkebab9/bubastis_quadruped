{
 "cells": [
  {
   "cell_type": "code",
   "execution_count": 34,
   "metadata": {},
   "outputs": [
    {
     "name": "stdout",
     "output_type": "stream",
     "text": [
      "Matrix([[0.707106781186547, 0.707106781186548, 0, 2.41421356237309], [0, 0, -1.00000000000000, 1], [-0.707106781186548, 0.707106781186547, 0, 1.50000000000000], [0, 0, 0, 1]])\n",
      "Matrix([[-0.707106781186548, 0.707106781186547, 0, 1.50000000000000], [0, 0, -1.00000000000000, 1], [-0.707106781186547, -0.707106781186548, 0, -2.41421356237309], [0, 0, 0, 1]])\n"
     ]
    }
   ],
   "source": [
    "import math\n",
    "import numpy\n",
    "import sympy\n",
    "\n",
    "#|~~~~~~~~~~~~~~~~~~~~~~~~~~~~~~~|#\n",
    "#|       DH Parameters           |#\n",
    "#| rot z| trans z| trans x| rot x|#\n",
    "#|-------------------------------|#\n",
    "#| -pi/2|    a   |   -b   |  0   |#\n",
    "#|  q_1 |    0   |   l_1  |  pi/2|#\n",
    "#|  q_2 |    0   |   l_2  |  0   |#\n",
    "#|  q_3 |    0   |   l_3  |  0   |#\n",
    "#|~~~~~~~~~~~~~~~~~~~~~~~~~~~~~~~|#\n",
    "\n",
    "a = 1\n",
    "b = 1.5\n",
    "\n",
    "q_1 = 0\n",
    "q_2 = math.pi/4\n",
    "q_3 = -math.pi/2\n",
    "\n",
    "l_1 = 1\n",
    "l_2 = 1\n",
    "l_3 = 1\n",
    "\n",
    "# origin to base_link transform (not shown in dh parameters)\n",
    "origin_base_rot = sympy.Matrix([[0, 0, 1, 0], [0, 1, 0, 0], [-1, 0, 0, 0], [0, 0, 0, 1]])\n",
    "\n",
    "# base_link to joint_0 transforms\n",
    "base_zero_trans = sympy.Matrix([[1, 0, 0, 0],[0, 1, 0, a],[0, 0, 1, b], [0, 0, 0, 1]])\n",
    "\n",
    "#joint_0 to joint_1 transforms\n",
    "zero_one_rot_z = sympy.Matrix([[math.cos(q_1), -1*math.sin(q_1), 0, 0], [math.sin(q_1), math.cos(q_1), 0, 0], [0, 0, 1, 0], [0, 0, 0, 1]])\n",
    "zero_one_trans = sympy.Matrix([[1, 0, 0, l_1], [0, 1, 0, 0], [0, 0, 1, 0], [0, 0, 0, 1]])\n",
    "zero_one_rot_x = sympy.Matrix([[1, 0, 0, 0], [0, 0, -1, 0], [0, 1, 0, 0], [0, 0, 0, 1]])\n",
    "\n",
    "#joint_1 to joint_2 transforms\n",
    "one_two_rot_z = sympy.Matrix([[math.cos(q_2), -1*math.sin(q_2), 0, 0], [math.sin(q_2), math.cos(q_2), 0, 0], [0, 0, 1, 0], [0, 0, 0, 1]])\n",
    "one_two_trans = sympy.Matrix([[1, 0, 0, l_2], [0, 1, 0, 0], [0, 0, 1, 0], [0, 0, 0, 1]])\n",
    "\n",
    "#joint_2 to end effector transforms\n",
    "two_ee_rot_z = sympy.Matrix([[math.cos(q_3), -1*math.sin(q_3), 0, 0], [math.sin(q_3), math.cos(q_3), 0, 0], [0, 0, 1, 0], [0, 0, 0, 1]])\n",
    "two_ee_trans = sympy.Matrix([[1, 0, 0, l_3], [0, 1, 0, 0], [0, 0, 1, 0], [0, 0, 0, 1]])\n",
    "\n",
    "base_zero = base_zero_trans\n",
    "\n",
    "zero_one = zero_one_rot_z * zero_one_trans * zero_one_rot_x\n",
    "#print(zero_one)\n",
    "\n",
    "one_two = one_two_rot_z * one_two_trans\n",
    "#print(one_two)\n",
    "\n",
    "two_ee = two_ee_rot_z * two_ee_trans\n",
    "#print(two_ee)\n",
    "\n",
    "origin_ee = origin_base_rot* base_zero * zero_one * one_two * two_ee \n",
    "#print(origin_ee)\n",
    "base_ee = base_zero * zero_one * one_two * two_ee \n",
    "print(base_ee)\n",
    "print(origin_ee)"
   ]
  },
  {
   "cell_type": "code",
   "execution_count": 37,
   "metadata": {},
   "outputs": [
    {
     "name": "stdout",
     "output_type": "stream",
     "text": [
      "Matrix([[35], [0], [0]])\n",
      "Matrix([[0], [24.7487373415292], [-3.88578058618805e-15]])\n"
     ]
    }
   ],
   "source": [
    "# Jacobian//Differential Kinematics Aspect\n",
    "\n",
    "# Below is the input for movement delta\n",
    "x_des = 35\n",
    "y_des = 0\n",
    "z_des = 0\n",
    "\n",
    "delta_x = sympy.Matrix([x_des, y_des, z_des])\n",
    "print(delta_x)\n",
    "\n",
    "# Matlab was used in order to determine symbollically the x y and z equations of Matrix origin_ee\n",
    "x_exp = b + l_2 * math.sin(q_2) + l_3 * (math.cos(q_2) * math.sin(q_3) + math.cos(q_3)*math.sin(q_2))\n",
    "y_exp = l_1 * math.sin(q_1) + l_3 * (math.cos(q_2) * math.cos(q_3) * math.sin(q_1) - math.sin(q_1) * math.sin(q_2) * math.sin(q_3)) + math.cos(q_2) * l_2 * math.sin(q_1)\n",
    "z_exp = -a + (-1*math.cos(q_1)) * l_1 - l_3*(math.cos(q_1)*math.cos(q_2)*math.cos(q_3) - math.cos(q_1)*math.sin(q_2)*math.sin(q_3))-math.cos(q_1)*math.cos(q_2)*l_2\n",
    "\n",
    "ee_position = sympy.Matrix([[x_exp], [y_exp], [z_exp]])\n",
    "\n",
    "# Jacobian Matrix Components also determined symbolically using Matlab\n",
    "dx_dq_1 = 0 \n",
    "dx_dq_2 = l_3*(math.cos(q_2)*math.cos(q_3) - math.sin(q_2)*math.sin(q_3)) + l_2*math.cos(q_2)\n",
    "dx_dq_3 = l_3*(math.cos(q_2)*math.cos(q_3) - math.sin(q_2)*math.sin(q_3))\n",
    "\n",
    "dy_dq_1 = l_3*(math.cos(q_1)*math.cos(q_2)*math.cos(q_3) - math.cos(q_1)*math.sin(q_2)*math.sin(q_3)) + l_1*math.cos(q_1) + l_2*math.cos(q_1)*math.cos(q_2)\n",
    "dy_dq_2 = -l_3*(math.cos(q_2)*math.sin(q_1)*math.sin(q_3) + math.cos(q_3)*math.sin(q_1)*math.sin(q_2)) - l_2*math.sin(q_1)*math.sin(q_2)\n",
    "dy_dq_3 = -l_3*(math.cos(q_2)*math.sin(q_1)*math.sin(q_3) + math.cos(q_3)*math.sin(q_1)*math.sin(q_2))\n",
    "\n",
    "dz_dq_1 = l_1*math.sin(q_1) - l_3*(math.sin(q_1)*math.sin(q_2)*math.sin(q_3) - math.cos(q_2)*math.cos(q_3)*math.sin(q_1)) + l_2*math.cos(q_2)*math.sin(q_1)\n",
    "dz_dq_2 = l_3*(math.cos(q_1)*math.cos(q_2)*math.sin(q_3) + math.cos(q_1)*math.cos(q_3)*math.sin(q_2)) + l_2*math.cos(q_1)*math.sin(q_2)\n",
    "dz_dq_3 = l_3*(math.cos(q_1)*math.cos(q_2)*math.sin(q_3) + math.cos(q_1)*math.cos(q_3)*math.sin(q_2))\n",
    "\n",
    "jacobian = sympy.Matrix([[dx_dq_1, dx_dq_2, dx_dq_3], [dy_dq_1, dy_dq_2, dy_dq_3], [dz_dq_1, dz_dq_2, dz_dq_3]])\n",
    "#print(jacobian)\n",
    "jacobian_det = jacobian.det()\n",
    "\n",
    "if jacobian_det != 0:\n",
    "    #print(jacobian_det)\n",
    "    inv_jacobian = jacobian.inv()\n",
    "    #print(inv_jacobian)\n",
    "    delta_q = inv_jacobian * delta_x\n",
    "    print(delta_q)\n",
    "else:\n",
    "    print(\"You are at the edge of the workspace or you have discovered a singularity!\")"
   ]
  },
  {
   "cell_type": "code",
   "execution_count": null,
   "metadata": {},
   "outputs": [],
   "source": []
  }
 ],
 "metadata": {
  "kernelspec": {
   "display_name": "Python 2",
   "language": "python",
   "name": "python2"
  },
  "language_info": {
   "codemirror_mode": {
    "name": "ipython",
    "version": 2
   },
   "file_extension": ".py",
   "mimetype": "text/x-python",
   "name": "python",
   "nbconvert_exporter": "python",
   "pygments_lexer": "ipython2",
   "version": "2.7.13"
  }
 },
 "nbformat": 4,
 "nbformat_minor": 2
}
